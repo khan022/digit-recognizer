{
 "cells": [
  {
   "cell_type": "code",
   "execution_count": 1,
   "id": "86e6ac34",
   "metadata": {
    "_cell_guid": "b1076dfc-b9ad-4769-8c92-a6c4dae69d19",
    "_uuid": "8f2839f25d086af736a60e9eeb907d3b93b6e0e5",
    "execution": {
     "iopub.execute_input": "2023-08-30T05:32:54.662881Z",
     "iopub.status.busy": "2023-08-30T05:32:54.662132Z",
     "iopub.status.idle": "2023-08-30T05:33:06.517515Z",
     "shell.execute_reply": "2023-08-30T05:33:06.516146Z"
    },
    "papermill": {
     "duration": 11.870859,
     "end_time": "2023-08-30T05:33:06.519808",
     "exception": false,
     "start_time": "2023-08-30T05:32:54.648949",
     "status": "completed"
    },
    "tags": []
   },
   "outputs": [
    {
     "name": "stderr",
     "output_type": "stream",
     "text": [
      "/opt/conda/lib/python3.10/site-packages/scipy/__init__.py:146: UserWarning: A NumPy version >=1.16.5 and <1.23.0 is required for this version of SciPy (detected version 1.23.5\n",
      "  warnings.warn(f\"A NumPy version >={np_minversion} and <{np_maxversion}\"\n"
     ]
    },
    {
     "name": "stdout",
     "output_type": "stream",
     "text": [
      "/kaggle/input/digit-recognizer/sample_submission.csv\n",
      "/kaggle/input/digit-recognizer/train.csv\n",
      "/kaggle/input/digit-recognizer/test.csv\n"
     ]
    }
   ],
   "source": [
    "# This Python 3 environment comes with many helpful analytics libraries installed\n",
    "# It is defined by the kaggle/python Docker image: https://github.com/kaggle/docker-python\n",
    "# For example, here's several helpful packages to load\n",
    "\n",
    "import numpy as np # linear algebra\n",
    "import pandas as pd # data processing, CSV file I/O (e.g. pd.read_csv)\n",
    "import torch\n",
    "from torch import nn\n",
    "from torchvision import models\n",
    "from transformers import AutoModel\n",
    "from torch.utils.data import Dataset, DataLoader\n",
    "import torchvision.transforms as transforms\n",
    "\n",
    "import matplotlib.pyplot as plt\n",
    "import random\n",
    "import warnings\n",
    "from pathlib import Path\n",
    "from tqdm import tqdm\n",
    "import torch.optim as optim\n",
    "from sklearn.model_selection import train_test_split\n",
    "\n",
    "import sys\n",
    "warnings.filterwarnings(\"ignore\")\n",
    "\n",
    "# Input data files are available in the read-only \"../input/\" directory\n",
    "# For example, running this (by clicking run or pressing Shift+Enter) will list all files under the input directory\n",
    "\n",
    "import os\n",
    "for dirname, _, filenames in os.walk('/kaggle/input'):\n",
    "    for filename in filenames:\n",
    "        print(os.path.join(dirname, filename))\n",
    "\n",
    "# You can write up to 20GB to the current directory (/kaggle/working/) that gets preserved as output when you create a version using \"Save & Run All\" \n",
    "# You can also write temporary files to /kaggle/temp/, but they won't be saved outside of the current session"
   ]
  },
  {
   "cell_type": "markdown",
   "id": "ce25ecd9",
   "metadata": {
    "papermill": {
     "duration": 0.010412,
     "end_time": "2023-08-30T05:33:06.541752",
     "exception": false,
     "start_time": "2023-08-30T05:33:06.531340",
     "status": "completed"
    },
    "tags": []
   },
   "source": [
    "### Data Loading from the csv files"
   ]
  },
  {
   "cell_type": "code",
   "execution_count": 2,
   "id": "3db50713",
   "metadata": {
    "execution": {
     "iopub.execute_input": "2023-08-30T05:33:06.564534Z",
     "iopub.status.busy": "2023-08-30T05:33:06.564056Z",
     "iopub.status.idle": "2023-08-30T05:33:12.657759Z",
     "shell.execute_reply": "2023-08-30T05:33:12.656832Z"
    },
    "papermill": {
     "duration": 6.107398,
     "end_time": "2023-08-30T05:33:12.659882",
     "exception": false,
     "start_time": "2023-08-30T05:33:06.552484",
     "status": "completed"
    },
    "tags": []
   },
   "outputs": [
    {
     "data": {
      "text/html": [
       "<div>\n",
       "<style scoped>\n",
       "    .dataframe tbody tr th:only-of-type {\n",
       "        vertical-align: middle;\n",
       "    }\n",
       "\n",
       "    .dataframe tbody tr th {\n",
       "        vertical-align: top;\n",
       "    }\n",
       "\n",
       "    .dataframe thead th {\n",
       "        text-align: right;\n",
       "    }\n",
       "</style>\n",
       "<table border=\"1\" class=\"dataframe\">\n",
       "  <thead>\n",
       "    <tr style=\"text-align: right;\">\n",
       "      <th></th>\n",
       "      <th>label</th>\n",
       "      <th>pixel0</th>\n",
       "      <th>pixel1</th>\n",
       "      <th>pixel2</th>\n",
       "      <th>pixel3</th>\n",
       "      <th>pixel4</th>\n",
       "      <th>pixel5</th>\n",
       "      <th>pixel6</th>\n",
       "      <th>pixel7</th>\n",
       "      <th>pixel8</th>\n",
       "      <th>...</th>\n",
       "      <th>pixel774</th>\n",
       "      <th>pixel775</th>\n",
       "      <th>pixel776</th>\n",
       "      <th>pixel777</th>\n",
       "      <th>pixel778</th>\n",
       "      <th>pixel779</th>\n",
       "      <th>pixel780</th>\n",
       "      <th>pixel781</th>\n",
       "      <th>pixel782</th>\n",
       "      <th>pixel783</th>\n",
       "    </tr>\n",
       "  </thead>\n",
       "  <tbody>\n",
       "    <tr>\n",
       "      <th>14790</th>\n",
       "      <td>6</td>\n",
       "      <td>0</td>\n",
       "      <td>0</td>\n",
       "      <td>0</td>\n",
       "      <td>0</td>\n",
       "      <td>0</td>\n",
       "      <td>0</td>\n",
       "      <td>0</td>\n",
       "      <td>0</td>\n",
       "      <td>0</td>\n",
       "      <td>...</td>\n",
       "      <td>0</td>\n",
       "      <td>0</td>\n",
       "      <td>0</td>\n",
       "      <td>0</td>\n",
       "      <td>0</td>\n",
       "      <td>0</td>\n",
       "      <td>0</td>\n",
       "      <td>0</td>\n",
       "      <td>0</td>\n",
       "      <td>0</td>\n",
       "    </tr>\n",
       "    <tr>\n",
       "      <th>12876</th>\n",
       "      <td>6</td>\n",
       "      <td>0</td>\n",
       "      <td>0</td>\n",
       "      <td>0</td>\n",
       "      <td>0</td>\n",
       "      <td>0</td>\n",
       "      <td>0</td>\n",
       "      <td>0</td>\n",
       "      <td>0</td>\n",
       "      <td>0</td>\n",
       "      <td>...</td>\n",
       "      <td>0</td>\n",
       "      <td>0</td>\n",
       "      <td>0</td>\n",
       "      <td>0</td>\n",
       "      <td>0</td>\n",
       "      <td>0</td>\n",
       "      <td>0</td>\n",
       "      <td>0</td>\n",
       "      <td>0</td>\n",
       "      <td>0</td>\n",
       "    </tr>\n",
       "    <tr>\n",
       "      <th>35770</th>\n",
       "      <td>1</td>\n",
       "      <td>0</td>\n",
       "      <td>0</td>\n",
       "      <td>0</td>\n",
       "      <td>0</td>\n",
       "      <td>0</td>\n",
       "      <td>0</td>\n",
       "      <td>0</td>\n",
       "      <td>0</td>\n",
       "      <td>0</td>\n",
       "      <td>...</td>\n",
       "      <td>0</td>\n",
       "      <td>0</td>\n",
       "      <td>0</td>\n",
       "      <td>0</td>\n",
       "      <td>0</td>\n",
       "      <td>0</td>\n",
       "      <td>0</td>\n",
       "      <td>0</td>\n",
       "      <td>0</td>\n",
       "      <td>0</td>\n",
       "    </tr>\n",
       "    <tr>\n",
       "      <th>10772</th>\n",
       "      <td>1</td>\n",
       "      <td>0</td>\n",
       "      <td>0</td>\n",
       "      <td>0</td>\n",
       "      <td>0</td>\n",
       "      <td>0</td>\n",
       "      <td>0</td>\n",
       "      <td>0</td>\n",
       "      <td>0</td>\n",
       "      <td>0</td>\n",
       "      <td>...</td>\n",
       "      <td>0</td>\n",
       "      <td>0</td>\n",
       "      <td>0</td>\n",
       "      <td>0</td>\n",
       "      <td>0</td>\n",
       "      <td>0</td>\n",
       "      <td>0</td>\n",
       "      <td>0</td>\n",
       "      <td>0</td>\n",
       "      <td>0</td>\n",
       "    </tr>\n",
       "    <tr>\n",
       "      <th>6451</th>\n",
       "      <td>1</td>\n",
       "      <td>0</td>\n",
       "      <td>0</td>\n",
       "      <td>0</td>\n",
       "      <td>0</td>\n",
       "      <td>0</td>\n",
       "      <td>0</td>\n",
       "      <td>0</td>\n",
       "      <td>0</td>\n",
       "      <td>0</td>\n",
       "      <td>...</td>\n",
       "      <td>0</td>\n",
       "      <td>0</td>\n",
       "      <td>0</td>\n",
       "      <td>0</td>\n",
       "      <td>0</td>\n",
       "      <td>0</td>\n",
       "      <td>0</td>\n",
       "      <td>0</td>\n",
       "      <td>0</td>\n",
       "      <td>0</td>\n",
       "    </tr>\n",
       "  </tbody>\n",
       "</table>\n",
       "<p>5 rows × 785 columns</p>\n",
       "</div>"
      ],
      "text/plain": [
       "       label  pixel0  pixel1  pixel2  pixel3  pixel4  pixel5  pixel6  pixel7  \\\n",
       "14790      6       0       0       0       0       0       0       0       0   \n",
       "12876      6       0       0       0       0       0       0       0       0   \n",
       "35770      1       0       0       0       0       0       0       0       0   \n",
       "10772      1       0       0       0       0       0       0       0       0   \n",
       "6451       1       0       0       0       0       0       0       0       0   \n",
       "\n",
       "       pixel8  ...  pixel774  pixel775  pixel776  pixel777  pixel778  \\\n",
       "14790       0  ...         0         0         0         0         0   \n",
       "12876       0  ...         0         0         0         0         0   \n",
       "35770       0  ...         0         0         0         0         0   \n",
       "10772       0  ...         0         0         0         0         0   \n",
       "6451        0  ...         0         0         0         0         0   \n",
       "\n",
       "       pixel779  pixel780  pixel781  pixel782  pixel783  \n",
       "14790         0         0         0         0         0  \n",
       "12876         0         0         0         0         0  \n",
       "35770         0         0         0         0         0  \n",
       "10772         0         0         0         0         0  \n",
       "6451          0         0         0         0         0  \n",
       "\n",
       "[5 rows x 785 columns]"
      ]
     },
     "execution_count": 2,
     "metadata": {},
     "output_type": "execute_result"
    }
   ],
   "source": [
    "data = pd.read_csv(\"/kaggle/input/digit-recognizer/train.csv\")\n",
    "test_data = pd.read_csv(\"/kaggle/input/digit-recognizer/test.csv\")\n",
    "\n",
    "train_data, valid_data = train_test_split(data, test_size=0.20, stratify=data.label)\n",
    "train_data.head()"
   ]
  },
  {
   "cell_type": "code",
   "execution_count": 3,
   "id": "e61b7a88",
   "metadata": {
    "execution": {
     "iopub.execute_input": "2023-08-30T05:33:12.683685Z",
     "iopub.status.busy": "2023-08-30T05:33:12.683105Z",
     "iopub.status.idle": "2023-08-30T05:33:12.700194Z",
     "shell.execute_reply": "2023-08-30T05:33:12.699183Z"
    },
    "papermill": {
     "duration": 0.031249,
     "end_time": "2023-08-30T05:33:12.702306",
     "exception": false,
     "start_time": "2023-08-30T05:33:12.671057",
     "status": "completed"
    },
    "tags": []
   },
   "outputs": [
    {
     "data": {
      "text/html": [
       "<div>\n",
       "<style scoped>\n",
       "    .dataframe tbody tr th:only-of-type {\n",
       "        vertical-align: middle;\n",
       "    }\n",
       "\n",
       "    .dataframe tbody tr th {\n",
       "        vertical-align: top;\n",
       "    }\n",
       "\n",
       "    .dataframe thead th {\n",
       "        text-align: right;\n",
       "    }\n",
       "</style>\n",
       "<table border=\"1\" class=\"dataframe\">\n",
       "  <thead>\n",
       "    <tr style=\"text-align: right;\">\n",
       "      <th></th>\n",
       "      <th>label</th>\n",
       "      <th>pixel0</th>\n",
       "      <th>pixel1</th>\n",
       "      <th>pixel2</th>\n",
       "      <th>pixel3</th>\n",
       "      <th>pixel4</th>\n",
       "      <th>pixel5</th>\n",
       "      <th>pixel6</th>\n",
       "      <th>pixel7</th>\n",
       "      <th>pixel8</th>\n",
       "      <th>...</th>\n",
       "      <th>pixel774</th>\n",
       "      <th>pixel775</th>\n",
       "      <th>pixel776</th>\n",
       "      <th>pixel777</th>\n",
       "      <th>pixel778</th>\n",
       "      <th>pixel779</th>\n",
       "      <th>pixel780</th>\n",
       "      <th>pixel781</th>\n",
       "      <th>pixel782</th>\n",
       "      <th>pixel783</th>\n",
       "    </tr>\n",
       "  </thead>\n",
       "  <tbody>\n",
       "    <tr>\n",
       "      <th>0</th>\n",
       "      <td>6</td>\n",
       "      <td>0</td>\n",
       "      <td>0</td>\n",
       "      <td>0</td>\n",
       "      <td>0</td>\n",
       "      <td>0</td>\n",
       "      <td>0</td>\n",
       "      <td>0</td>\n",
       "      <td>0</td>\n",
       "      <td>0</td>\n",
       "      <td>...</td>\n",
       "      <td>0</td>\n",
       "      <td>0</td>\n",
       "      <td>0</td>\n",
       "      <td>0</td>\n",
       "      <td>0</td>\n",
       "      <td>0</td>\n",
       "      <td>0</td>\n",
       "      <td>0</td>\n",
       "      <td>0</td>\n",
       "      <td>0</td>\n",
       "    </tr>\n",
       "    <tr>\n",
       "      <th>1</th>\n",
       "      <td>6</td>\n",
       "      <td>0</td>\n",
       "      <td>0</td>\n",
       "      <td>0</td>\n",
       "      <td>0</td>\n",
       "      <td>0</td>\n",
       "      <td>0</td>\n",
       "      <td>0</td>\n",
       "      <td>0</td>\n",
       "      <td>0</td>\n",
       "      <td>...</td>\n",
       "      <td>0</td>\n",
       "      <td>0</td>\n",
       "      <td>0</td>\n",
       "      <td>0</td>\n",
       "      <td>0</td>\n",
       "      <td>0</td>\n",
       "      <td>0</td>\n",
       "      <td>0</td>\n",
       "      <td>0</td>\n",
       "      <td>0</td>\n",
       "    </tr>\n",
       "    <tr>\n",
       "      <th>2</th>\n",
       "      <td>1</td>\n",
       "      <td>0</td>\n",
       "      <td>0</td>\n",
       "      <td>0</td>\n",
       "      <td>0</td>\n",
       "      <td>0</td>\n",
       "      <td>0</td>\n",
       "      <td>0</td>\n",
       "      <td>0</td>\n",
       "      <td>0</td>\n",
       "      <td>...</td>\n",
       "      <td>0</td>\n",
       "      <td>0</td>\n",
       "      <td>0</td>\n",
       "      <td>0</td>\n",
       "      <td>0</td>\n",
       "      <td>0</td>\n",
       "      <td>0</td>\n",
       "      <td>0</td>\n",
       "      <td>0</td>\n",
       "      <td>0</td>\n",
       "    </tr>\n",
       "    <tr>\n",
       "      <th>3</th>\n",
       "      <td>1</td>\n",
       "      <td>0</td>\n",
       "      <td>0</td>\n",
       "      <td>0</td>\n",
       "      <td>0</td>\n",
       "      <td>0</td>\n",
       "      <td>0</td>\n",
       "      <td>0</td>\n",
       "      <td>0</td>\n",
       "      <td>0</td>\n",
       "      <td>...</td>\n",
       "      <td>0</td>\n",
       "      <td>0</td>\n",
       "      <td>0</td>\n",
       "      <td>0</td>\n",
       "      <td>0</td>\n",
       "      <td>0</td>\n",
       "      <td>0</td>\n",
       "      <td>0</td>\n",
       "      <td>0</td>\n",
       "      <td>0</td>\n",
       "    </tr>\n",
       "    <tr>\n",
       "      <th>4</th>\n",
       "      <td>1</td>\n",
       "      <td>0</td>\n",
       "      <td>0</td>\n",
       "      <td>0</td>\n",
       "      <td>0</td>\n",
       "      <td>0</td>\n",
       "      <td>0</td>\n",
       "      <td>0</td>\n",
       "      <td>0</td>\n",
       "      <td>0</td>\n",
       "      <td>...</td>\n",
       "      <td>0</td>\n",
       "      <td>0</td>\n",
       "      <td>0</td>\n",
       "      <td>0</td>\n",
       "      <td>0</td>\n",
       "      <td>0</td>\n",
       "      <td>0</td>\n",
       "      <td>0</td>\n",
       "      <td>0</td>\n",
       "      <td>0</td>\n",
       "    </tr>\n",
       "  </tbody>\n",
       "</table>\n",
       "<p>5 rows × 785 columns</p>\n",
       "</div>"
      ],
      "text/plain": [
       "   label  pixel0  pixel1  pixel2  pixel3  pixel4  pixel5  pixel6  pixel7  \\\n",
       "0      6       0       0       0       0       0       0       0       0   \n",
       "1      6       0       0       0       0       0       0       0       0   \n",
       "2      1       0       0       0       0       0       0       0       0   \n",
       "3      1       0       0       0       0       0       0       0       0   \n",
       "4      1       0       0       0       0       0       0       0       0   \n",
       "\n",
       "   pixel8  ...  pixel774  pixel775  pixel776  pixel777  pixel778  pixel779  \\\n",
       "0       0  ...         0         0         0         0         0         0   \n",
       "1       0  ...         0         0         0         0         0         0   \n",
       "2       0  ...         0         0         0         0         0         0   \n",
       "3       0  ...         0         0         0         0         0         0   \n",
       "4       0  ...         0         0         0         0         0         0   \n",
       "\n",
       "   pixel780  pixel781  pixel782  pixel783  \n",
       "0         0         0         0         0  \n",
       "1         0         0         0         0  \n",
       "2         0         0         0         0  \n",
       "3         0         0         0         0  \n",
       "4         0         0         0         0  \n",
       "\n",
       "[5 rows x 785 columns]"
      ]
     },
     "execution_count": 3,
     "metadata": {},
     "output_type": "execute_result"
    }
   ],
   "source": [
    "train_data.reset_index(drop=True, inplace=True)\n",
    "valid_data.reset_index(drop=True, inplace=True)\n",
    "\n",
    "train_data.head()"
   ]
  },
  {
   "cell_type": "code",
   "execution_count": 4,
   "id": "e9576081",
   "metadata": {
    "execution": {
     "iopub.execute_input": "2023-08-30T05:33:12.726662Z",
     "iopub.status.busy": "2023-08-30T05:33:12.726366Z",
     "iopub.status.idle": "2023-08-30T05:33:12.732948Z",
     "shell.execute_reply": "2023-08-30T05:33:12.732059Z"
    },
    "papermill": {
     "duration": 0.020855,
     "end_time": "2023-08-30T05:33:12.734998",
     "exception": false,
     "start_time": "2023-08-30T05:33:12.714143",
     "status": "completed"
    },
    "tags": []
   },
   "outputs": [
    {
     "name": "stdout",
     "output_type": "stream",
     "text": [
      "(33600, 785) (8400, 785)\n"
     ]
    }
   ],
   "source": [
    "print(train_data.shape, valid_data.shape)"
   ]
  },
  {
   "cell_type": "markdown",
   "id": "9b4cfae6",
   "metadata": {
    "papermill": {
     "duration": 0.011042,
     "end_time": "2023-08-30T05:33:12.757247",
     "exception": false,
     "start_time": "2023-08-30T05:33:12.746205",
     "status": "completed"
    },
    "tags": []
   },
   "source": [
    "### Dataloader with devices"
   ]
  },
  {
   "cell_type": "code",
   "execution_count": 5,
   "id": "019d8d7f",
   "metadata": {
    "execution": {
     "iopub.execute_input": "2023-08-30T05:33:12.780979Z",
     "iopub.status.busy": "2023-08-30T05:33:12.780681Z",
     "iopub.status.idle": "2023-08-30T05:33:12.787990Z",
     "shell.execute_reply": "2023-08-30T05:33:12.786981Z"
    },
    "papermill": {
     "duration": 0.021757,
     "end_time": "2023-08-30T05:33:12.790429",
     "exception": false,
     "start_time": "2023-08-30T05:33:12.768672",
     "status": "completed"
    },
    "tags": []
   },
   "outputs": [],
   "source": [
    "class CustomDataset(Dataset):\n",
    "    \"\"\" Custom dataset for `Digit Recognizer` \"\"\"\n",
    "    \n",
    "    def __init__(self, inputs, targets, transform=None):\n",
    "        self.inputs = inputs\n",
    "        self.targets = targets\n",
    "        self.transform = transform\n",
    "        \n",
    "        assert len(inputs) == len(targets), \"Inputs and targets length have to be equal\"\n",
    "        \n",
    "    def __len__(self):\n",
    "        \"\"\" Return lenght \"\"\"\n",
    "        return len(self.inputs)\n",
    "        \n",
    "    def __getitem__(self, idx):\n",
    "        \"\"\" Preprocess and return image with its label \"\"\"\n",
    "        image = self.inputs.values[idx].reshape(28, 28) / 255.0\n",
    "        \n",
    "        if self.transform is not None:\n",
    "            image = self.transform(image)\n",
    "            image = image.to(torch.float32)\n",
    "        \n",
    "        return image, self.targets[idx]"
   ]
  },
  {
   "cell_type": "markdown",
   "id": "c6b1694c",
   "metadata": {
    "papermill": {
     "duration": 0.011038,
     "end_time": "2023-08-30T05:33:12.812694",
     "exception": false,
     "start_time": "2023-08-30T05:33:12.801656",
     "status": "completed"
    },
    "tags": []
   },
   "source": [
    "### Loading data"
   ]
  },
  {
   "cell_type": "code",
   "execution_count": 6,
   "id": "0576ee62",
   "metadata": {
    "execution": {
     "iopub.execute_input": "2023-08-30T05:33:12.836497Z",
     "iopub.status.busy": "2023-08-30T05:33:12.836242Z",
     "iopub.status.idle": "2023-08-30T05:33:12.909150Z",
     "shell.execute_reply": "2023-08-30T05:33:12.907982Z"
    },
    "papermill": {
     "duration": 0.087716,
     "end_time": "2023-08-30T05:33:12.911605",
     "exception": false,
     "start_time": "2023-08-30T05:33:12.823889",
     "status": "completed"
    },
    "tags": []
   },
   "outputs": [],
   "source": [
    "\"\"\" Preprocessing image \"\"\"\n",
    "data_transform = transforms.Compose([ \n",
    "    transforms.RandomRotation(degrees=15),\n",
    "    transforms.Normalize((0.5,), (0.5,))\n",
    "])\n",
    "\n",
    "transform2 = transforms.Compose([\n",
    "    transforms.ToTensor(),\n",
    "    transforms.RandomRotation(degrees=15),\n",
    "    transforms.RandomHorizontalFlip(p=0.5),\n",
    "    transforms.RandomResizedCrop(28, scale=(0.8, 1.0)),\n",
    "    transforms.ColorJitter(brightness=0.5, contrast=0.5, saturation=0.5, hue=0.5),\n",
    "    transforms.Normalize((0.5,), (0.5,))\n",
    "])\n",
    "\n",
    "\n",
    "\"\"\" Params of DataLoaders \"\"\"\n",
    "num_workers = 2\n",
    "pin_memory = True\n",
    "batch_size = 128\n",
    "\n",
    "\"\"\" Creating train dataset & loader \"\"\"\n",
    "train_dataset = CustomDataset(train_data.drop(\"label\", axis=1), train_data[\"label\"], transform2)\n",
    "\n",
    "train_dataloader = DataLoader(train_dataset, batch_size = batch_size, shuffle = True, num_workers=num_workers, pin_memory=pin_memory)"
   ]
  },
  {
   "cell_type": "code",
   "execution_count": 7,
   "id": "43bcfd89",
   "metadata": {
    "execution": {
     "iopub.execute_input": "2023-08-30T05:33:12.938881Z",
     "iopub.status.busy": "2023-08-30T05:33:12.937436Z",
     "iopub.status.idle": "2023-08-30T05:33:12.962401Z",
     "shell.execute_reply": "2023-08-30T05:33:12.961420Z"
    },
    "papermill": {
     "duration": 0.039866,
     "end_time": "2023-08-30T05:33:12.964712",
     "exception": false,
     "start_time": "2023-08-30T05:33:12.924846",
     "status": "completed"
    },
    "tags": []
   },
   "outputs": [],
   "source": [
    "\"\"\" Creating valid dataset & loader \"\"\"\n",
    "valid_dataset = CustomDataset(valid_data.drop(\"label\", axis=1), valid_data[\"label\"], transform2)\n",
    "\n",
    "valid_dataloader = DataLoader(valid_dataset, batch_size = batch_size, shuffle=False, num_workers=num_workers, pin_memory=pin_memory)"
   ]
  },
  {
   "cell_type": "code",
   "execution_count": 8,
   "id": "2b9ea6a1",
   "metadata": {
    "execution": {
     "iopub.execute_input": "2023-08-30T05:33:12.990403Z",
     "iopub.status.busy": "2023-08-30T05:33:12.989850Z",
     "iopub.status.idle": "2023-08-30T05:33:13.011815Z",
     "shell.execute_reply": "2023-08-30T05:33:13.010811Z"
    },
    "papermill": {
     "duration": 0.036345,
     "end_time": "2023-08-30T05:33:13.013951",
     "exception": false,
     "start_time": "2023-08-30T05:33:12.977606",
     "status": "completed"
    },
    "tags": []
   },
   "outputs": [],
   "source": [
    "test_dataset = CustomDataset(valid_data.drop(\"label\", axis=1), valid_data[\"label\"], transform2)"
   ]
  },
  {
   "cell_type": "code",
   "execution_count": 9,
   "id": "27037abb",
   "metadata": {
    "execution": {
     "iopub.execute_input": "2023-08-30T05:33:13.038884Z",
     "iopub.status.busy": "2023-08-30T05:33:13.038606Z",
     "iopub.status.idle": "2023-08-30T05:33:14.121259Z",
     "shell.execute_reply": "2023-08-30T05:33:14.120298Z"
    },
    "papermill": {
     "duration": 1.098855,
     "end_time": "2023-08-30T05:33:14.124857",
     "exception": false,
     "start_time": "2023-08-30T05:33:13.026002",
     "status": "completed"
    },
    "tags": []
   },
   "outputs": [
    {
     "data": {
      "image/png": "[encoded data removed]",
      "text/plain": [
       "<Figure size 1000x2000 with 10 Axes>"
      ]
     },
     "metadata": {},
     "output_type": "display_data"
    }
   ],
   "source": [
    "\"\"\" Show data \"\"\"\n",
    "n = 10\n",
    "fig, axes = plt.subplots(1, n, figsize=(10, 20))\n",
    "\n",
    "for i, idx in enumerate(random.sample(range(len(train_dataset)), n)):\n",
    "    axes[i].imshow(train_dataset[idx][0].numpy().transpose(1, 2, 0))\n",
    "    axes[i].set_title(train_dataset[idx][1])\n",
    "    axes[i].axis(\"off\")\n",
    "    \n",
    "plt.tight_layout()\n",
    "plt.show()"
   ]
  },
  {
   "cell_type": "markdown",
   "id": "d7ef0739",
   "metadata": {
    "papermill": {
     "duration": 0.012293,
     "end_time": "2023-08-30T05:33:14.149791",
     "exception": false,
     "start_time": "2023-08-30T05:33:14.137498",
     "status": "completed"
    },
    "tags": []
   },
   "source": [
    "#### Device loading the data"
   ]
  },
  {
   "cell_type": "code",
   "execution_count": 10,
   "id": "c41c4f3a",
   "metadata": {
    "execution": {
     "iopub.execute_input": "2023-08-30T05:33:14.175791Z",
     "iopub.status.busy": "2023-08-30T05:33:14.175502Z",
     "iopub.status.idle": "2023-08-30T05:33:14.278193Z",
     "shell.execute_reply": "2023-08-30T05:33:14.277087Z"
    },
    "papermill": {
     "duration": 0.118138,
     "end_time": "2023-08-30T05:33:14.280355",
     "exception": false,
     "start_time": "2023-08-30T05:33:14.162217",
     "status": "completed"
    },
    "tags": []
   },
   "outputs": [],
   "source": [
    "device = \"cuda\" if torch.cuda.is_available() else \"cpu\""
   ]
  },
  {
   "cell_type": "code",
   "execution_count": 11,
   "id": "e1fe9a86",
   "metadata": {
    "_kg_hide-input": true,
    "execution": {
     "iopub.execute_input": "2023-08-30T05:33:14.308952Z",
     "iopub.status.busy": "2023-08-30T05:33:14.308107Z",
     "iopub.status.idle": "2023-08-30T05:33:14.313231Z",
     "shell.execute_reply": "2023-08-30T05:33:14.312278Z"
    },
    "papermill": {
     "duration": 0.021762,
     "end_time": "2023-08-30T05:33:14.315384",
     "exception": false,
     "start_time": "2023-08-30T05:33:14.293622",
     "status": "completed"
    },
    "tags": []
   },
   "outputs": [],
   "source": [
    "# def to_device(data, device):\n",
    "#     \"\"\"Move tensor(s) to chosen device\"\"\"\n",
    "#     if isinstance(data, (list,tuple)):\n",
    "#         return [to_device(x, device) for x in data]\n",
    "#     return data.to(device, non_blocking=True)\n",
    "\n",
    "# class DeviceDataLoader():\n",
    "#     \"\"\"Wrap a dataloader to move data to a device\"\"\"\n",
    "#     def __init__(self, dl, device):\n",
    "#         self.dl = dl\n",
    "#         self.device = device\n",
    "        \n",
    "#     def __iter__(self):\n",
    "#         \"\"\"Yield a batch of data after moving it to device\"\"\"\n",
    "#         for b in self.dl: \n",
    "#             yield to_device(b, self.device)\n",
    "\n",
    "#     def __len__(self):\n",
    "#         \"\"\"Number of batches\"\"\"\n",
    "#         return len(self.dl)"
   ]
  },
  {
   "cell_type": "code",
   "execution_count": 12,
   "id": "451371b9",
   "metadata": {
    "_kg_hide-input": true,
    "execution": {
     "iopub.execute_input": "2023-08-30T05:33:14.341832Z",
     "iopub.status.busy": "2023-08-30T05:33:14.341562Z",
     "iopub.status.idle": "2023-08-30T05:33:14.345730Z",
     "shell.execute_reply": "2023-08-30T05:33:14.344725Z"
    },
    "papermill": {
     "duration": 0.019891,
     "end_time": "2023-08-30T05:33:14.348098",
     "exception": false,
     "start_time": "2023-08-30T05:33:14.328207",
     "status": "completed"
    },
    "tags": []
   },
   "outputs": [],
   "source": [
    "# train_dataloader = DeviceDataLoader(train_dataloader, device)\n",
    "# valid_dataloader = DeviceDataLoader(valid_dataloader, device)"
   ]
  },
  {
   "cell_type": "markdown",
   "id": "ef163da4",
   "metadata": {
    "papermill": {
     "duration": 0.01199,
     "end_time": "2023-08-30T05:33:14.372365",
     "exception": false,
     "start_time": "2023-08-30T05:33:14.360375",
     "status": "completed"
    },
    "tags": []
   },
   "source": [
    "## **ResNet18 based Model**"
   ]
  },
  {
   "cell_type": "code",
   "execution_count": 13,
   "id": "f7e773ca",
   "metadata": {
    "execution": {
     "iopub.execute_input": "2023-08-30T05:33:14.398477Z",
     "iopub.status.busy": "2023-08-30T05:33:14.398222Z",
     "iopub.status.idle": "2023-08-30T05:33:14.404798Z",
     "shell.execute_reply": "2023-08-30T05:33:14.403957Z"
    },
    "papermill": {
     "duration": 0.02185,
     "end_time": "2023-08-30T05:33:14.406700",
     "exception": false,
     "start_time": "2023-08-30T05:33:14.384850",
     "status": "completed"
    },
    "tags": []
   },
   "outputs": [],
   "source": [
    "# class ImageTransformerClassifier(nn.Module):\n",
    "#     def __init__(self, model_name, num_classes):\n",
    "#         super().__init__()\n",
    "#         # Load a pre-trained CNN as a feature extractor\n",
    "#         self.feature_extractor = models.resnet18(pretrained=True)\n",
    "        \n",
    "#         # Change the in_channels attribute of the first convolutional layer\n",
    "#         self.feature_extractor.conv1 = nn.Conv2d(1, 64, kernel_size=7, stride=2, padding=3, bias=False)\n",
    "        \n",
    "#         # Change the size of the average pooling layer\n",
    "#         self.feature_extractor.avgpool = nn.AdaptiveAvgPool2d((1, 1))\n",
    "        \n",
    "#         self.feature_extractor.fc = nn.Identity()\n",
    "        \n",
    "#         # Load a pre-trained transformer model\n",
    "#         self.transformer = AutoModel.from_pretrained(model_name)\n",
    "        \n",
    "#         # Project the output of the feature extractor to the transformer's hidden size\n",
    "#         self.projection = nn.Linear(512, self.transformer.config.hidden_size)\n",
    "        \n",
    "#         # Add dropout and classification layers\n",
    "#         self.dropout = nn.Dropout(0.1)\n",
    "#         self.classifier = nn.Linear(self.transformer.config.hidden_size, num_classes)\n",
    "\n",
    "#     def forward(self, images):\n",
    "#         # Extract features from the images\n",
    "#         features = self.feature_extractor(images)\n",
    "        \n",
    "#         # Project the features to the transformer's hidden size\n",
    "#         projected_features = self.projection(features)\n",
    "        \n",
    "#         # Pass the projected features through the transformer\n",
    "#         outputs = self.transformer(inputs_embeds=projected_features)\n",
    "#         last_hidden_state = outputs.last_hidden_state\n",
    "#         pooled_output = last_hidden_state[:, 0]\n",
    "        \n",
    "#         # Pass the output through dropout and classification layers\n",
    "#         pooled_output = self.dropout(pooled_output)\n",
    "#         logits = self.classifier(pooled_output)\n",
    "        \n",
    "#         return logits\n",
    "\n",
    "# # Load a pre-trained transformer model from the Hugging Face Model Hub\n",
    "# model_name = 'bert-base-uncased'\n",
    "# num_classes = 10 # Number of classes for your classification task\n",
    "# model = ImageTransformerClassifier(model_name, num_classes)\n"
   ]
  },
  {
   "cell_type": "code",
   "execution_count": 14,
   "id": "c114c12a",
   "metadata": {
    "execution": {
     "iopub.execute_input": "2023-08-30T05:33:14.432293Z",
     "iopub.status.busy": "2023-08-30T05:33:14.431552Z",
     "iopub.status.idle": "2023-08-30T05:33:14.438965Z",
     "shell.execute_reply": "2023-08-30T05:33:14.438111Z"
    },
    "papermill": {
     "duration": 0.02222,
     "end_time": "2023-08-30T05:33:14.440943",
     "exception": false,
     "start_time": "2023-08-30T05:33:14.418723",
     "status": "completed"
    },
    "tags": []
   },
   "outputs": [],
   "source": [
    "class SimpleClassifier(nn.Module):\n",
    "    def __init__(self, num_classes=10):\n",
    "        super().__init__()\n",
    "        # Load a pre-trained resnet18 model\n",
    "        self.model = models.resnet18(pretrained=True)\n",
    "        # Load a pre-trained resnet50 model\n",
    "        # self.model = models.resnet50(pretrained=True)\n",
    "        \n",
    "        # Change the first convolutional layer to accept grayscale images\n",
    "        self.model.conv1 = nn.Conv2d(1, 64, kernel_size=7, stride=2, padding=3, bias=False)\n",
    "        \n",
    "        # Change the size of the average pooling layer\n",
    "        self.model.avgpool = nn.AdaptiveAvgPool2d((1, 1))\n",
    "        \n",
    "        # Change the last fully connected layer to output num_classes\n",
    "        self.model.fc = nn.Linear(512, num_classes)\n",
    "        # self.model.fc = nn.Linear(2048, num_classes)\n",
    "    \n",
    "    def forward(self, x):\n",
    "        # Pass the input through the model\n",
    "        x = self.model(x)\n",
    "        return x"
   ]
  },
  {
   "cell_type": "code",
   "execution_count": 15,
   "id": "789ae722",
   "metadata": {
    "execution": {
     "iopub.execute_input": "2023-08-30T05:33:14.467370Z",
     "iopub.status.busy": "2023-08-30T05:33:14.466630Z",
     "iopub.status.idle": "2023-08-30T05:33:19.975793Z",
     "shell.execute_reply": "2023-08-30T05:33:19.974861Z"
    },
    "papermill": {
     "duration": 5.524668,
     "end_time": "2023-08-30T05:33:19.978078",
     "exception": false,
     "start_time": "2023-08-30T05:33:14.453410",
     "status": "completed"
    },
    "tags": []
   },
   "outputs": [
    {
     "name": "stderr",
     "output_type": "stream",
     "text": [
      "Downloading: \"https://download.pytorch.org/models/resnet18-f37072fd.pth\" to /root/.cache/torch/hub/checkpoints/resnet18-f37072fd.pth\n",
      "100%|██████████| 44.7M/44.7M [00:00<00:00, 175MB/s]\n"
     ]
    },
    {
     "data": {
      "text/plain": [
       "DataParallel(\n",
       "  (module): SimpleClassifier(\n",
       "    (model): ResNet(\n",
       "      (conv1): Conv2d(1, 64, kernel_size=(7, 7), stride=(2, 2), padding=(3, 3), bias=False)\n",
       "      (bn1): BatchNorm2d(64, eps=1e-05, momentum=0.1, affine=True, track_running_stats=True)\n",
       "      (relu): ReLU(inplace=True)\n",
       "      (maxpool): MaxPool2d(kernel_size=3, stride=2, padding=1, dilation=1, ceil_mode=False)\n",
       "      (layer1): Sequential(\n",
       "        (0): BasicBlock(\n",
       "          (conv1): Conv2d(64, 64, kernel_size=(3, 3), stride=(1, 1), padding=(1, 1), bias=False)\n",
       "          (bn1): BatchNorm2d(64, eps=1e-05, momentum=0.1, affine=True, track_running_stats=True)\n",
       "          (relu): ReLU(inplace=True)\n",
       "          (conv2): Conv2d(64, 64, kernel_size=(3, 3), stride=(1, 1), padding=(1, 1), bias=False)\n",
       "          (bn2): BatchNorm2d(64, eps=1e-05, momentum=0.1, affine=True, track_running_stats=True)\n",
       "        )\n",
       "        (1): BasicBlock(\n",
       "          (conv1): Conv2d(64, 64, kernel_size=(3, 3), stride=(1, 1), padding=(1, 1), bias=False)\n",
       "          (bn1): BatchNorm2d(64, eps=1e-05, momentum=0.1, affine=True, track_running_stats=True)\n",
       "          (relu): ReLU(inplace=True)\n",
       "          (conv2): Conv2d(64, 64, kernel_size=(3, 3), stride=(1, 1), padding=(1, 1), bias=False)\n",
       "          (bn2): BatchNorm2d(64, eps=1e-05, momentum=0.1, affine=True, track_running_stats=True)\n",
       "        )\n",
       "      )\n",
       "      (layer2): Sequential(\n",
       "        (0): BasicBlock(\n",
       "          (conv1): Conv2d(64, 128, kernel_size=(3, 3), stride=(2, 2), padding=(1, 1), bias=False)\n",
       "          (bn1): BatchNorm2d(128, eps=1e-05, momentum=0.1, affine=True, track_running_stats=True)\n",
       "          (relu): ReLU(inplace=True)\n",
       "          (conv2): Conv2d(128, 128, kernel_size=(3, 3), stride=(1, 1), padding=(1, 1), bias=False)\n",
       "          (bn2): BatchNorm2d(128, eps=1e-05, momentum=0.1, affine=True, track_running_stats=True)\n",
       "          (downsample): Sequential(\n",
       "            (0): Conv2d(64, 128, kernel_size=(1, 1), stride=(2, 2), bias=False)\n",
       "            (1): BatchNorm2d(128, eps=1e-05, momentum=0.1, affine=True, track_running_stats=True)\n",
       "          )\n",
       "        )\n",
       "        (1): BasicBlock(\n",
       "          (conv1): Conv2d(128, 128, kernel_size=(3, 3), stride=(1, 1), padding=(1, 1), bias=False)\n",
       "          (bn1): BatchNorm2d(128, eps=1e-05, momentum=0.1, affine=True, track_running_stats=True)\n",
       "          (relu): ReLU(inplace=True)\n",
       "          (conv2): Conv2d(128, 128, kernel_size=(3, 3), stride=(1, 1), padding=(1, 1), bias=False)\n",
       "          (bn2): BatchNorm2d(128, eps=1e-05, momentum=0.1, affine=True, track_running_stats=True)\n",
       "        )\n",
       "      )\n",
       "      (layer3): Sequential(\n",
       "        (0): BasicBlock(\n",
       "          (conv1): Conv2d(128, 256, kernel_size=(3, 3), stride=(2, 2), padding=(1, 1), bias=False)\n",
       "          (bn1): BatchNorm2d(256, eps=1e-05, momentum=0.1, affine=True, track_running_stats=True)\n",
       "          (relu): ReLU(inplace=True)\n",
       "          (conv2): Conv2d(256, 256, kernel_size=(3, 3), stride=(1, 1), padding=(1, 1), bias=False)\n",
       "          (bn2): BatchNorm2d(256, eps=1e-05, momentum=0.1, affine=True, track_running_stats=True)\n",
       "          (downsample): Sequential(\n",
       "            (0): Conv2d(128, 256, kernel_size=(1, 1), stride=(2, 2), bias=False)\n",
       "            (1): BatchNorm2d(256, eps=1e-05, momentum=0.1, affine=True, track_running_stats=True)\n",
       "          )\n",
       "        )\n",
       "        (1): BasicBlock(\n",
       "          (conv1): Conv2d(256, 256, kernel_size=(3, 3), stride=(1, 1), padding=(1, 1), bias=False)\n",
       "          (bn1): BatchNorm2d(256, eps=1e-05, momentum=0.1, affine=True, track_running_stats=True)\n",
       "          (relu): ReLU(inplace=True)\n",
       "          (conv2): Conv2d(256, 256, kernel_size=(3, 3), stride=(1, 1), padding=(1, 1), bias=False)\n",
       "          (bn2): BatchNorm2d(256, eps=1e-05, momentum=0.1, affine=True, track_running_stats=True)\n",
       "        )\n",
       "      )\n",
       "      (layer4): Sequential(\n",
       "        (0): BasicBlock(\n",
       "          (conv1): Conv2d(256, 512, kernel_size=(3, 3), stride=(2, 2), padding=(1, 1), bias=False)\n",
       "          (bn1): BatchNorm2d(512, eps=1e-05, momentum=0.1, affine=True, track_running_stats=True)\n",
       "          (relu): ReLU(inplace=True)\n",
       "          (conv2): Conv2d(512, 512, kernel_size=(3, 3), stride=(1, 1), padding=(1, 1), bias=False)\n",
       "          (bn2): BatchNorm2d(512, eps=1e-05, momentum=0.1, affine=True, track_running_stats=True)\n",
       "          (downsample): Sequential(\n",
       "            (0): Conv2d(256, 512, kernel_size=(1, 1), stride=(2, 2), bias=False)\n",
       "            (1): BatchNorm2d(512, eps=1e-05, momentum=0.1, affine=True, track_running_stats=True)\n",
       "          )\n",
       "        )\n",
       "        (1): BasicBlock(\n",
       "          (conv1): Conv2d(512, 512, kernel_size=(3, 3), stride=(1, 1), padding=(1, 1), bias=False)\n",
       "          (bn1): BatchNorm2d(512, eps=1e-05, momentum=0.1, affine=True, track_running_stats=True)\n",
       "          (relu): ReLU(inplace=True)\n",
       "          (conv2): Conv2d(512, 512, kernel_size=(3, 3), stride=(1, 1), padding=(1, 1), bias=False)\n",
       "          (bn2): BatchNorm2d(512, eps=1e-05, momentum=0.1, affine=True, track_running_stats=True)\n",
       "        )\n",
       "      )\n",
       "      (avgpool): AdaptiveAvgPool2d(output_size=(1, 1))\n",
       "      (fc): Linear(in_features=512, out_features=10, bias=True)\n",
       "    )\n",
       "  )\n",
       ")"
      ]
     },
     "execution_count": 15,
     "metadata": {},
     "output_type": "execute_result"
    }
   ],
   "source": [
    "sim_model = SimpleClassifier()\n",
    "sim_model = nn.DataParallel(sim_model)\n",
    "sim_model.to(device)\n",
    "\n",
    "# print(sim_model)"
   ]
  },
  {
   "cell_type": "code",
   "execution_count": 16,
   "id": "2b30e320",
   "metadata": {
    "execution": {
     "iopub.execute_input": "2023-08-30T05:33:20.007256Z",
     "iopub.status.busy": "2023-08-30T05:33:20.006280Z",
     "iopub.status.idle": "2023-08-30T05:33:20.010929Z",
     "shell.execute_reply": "2023-08-30T05:33:20.009966Z"
    },
    "papermill": {
     "duration": 0.021417,
     "end_time": "2023-08-30T05:33:20.012852",
     "exception": false,
     "start_time": "2023-08-30T05:33:19.991435",
     "status": "completed"
    },
    "tags": []
   },
   "outputs": [],
   "source": [
    "# model.to(device)\n",
    "# print(model)"
   ]
  },
  {
   "cell_type": "markdown",
   "id": "d6f0c579",
   "metadata": {
    "papermill": {
     "duration": 0.013108,
     "end_time": "2023-08-30T05:33:20.039164",
     "exception": false,
     "start_time": "2023-08-30T05:33:20.026056",
     "status": "completed"
    },
    "tags": []
   },
   "source": [
    "### Training and testing"
   ]
  },
  {
   "cell_type": "code",
   "execution_count": 17,
   "id": "f6cbb6b0",
   "metadata": {
    "execution": {
     "iopub.execute_input": "2023-08-30T05:33:20.067472Z",
     "iopub.status.busy": "2023-08-30T05:33:20.067175Z",
     "iopub.status.idle": "2023-08-30T05:43:32.695186Z",
     "shell.execute_reply": "2023-08-30T05:43:32.693200Z"
    },
    "papermill": {
     "duration": 612.64458,
     "end_time": "2023-08-30T05:43:32.697576",
     "exception": false,
     "start_time": "2023-08-30T05:33:20.052996",
     "status": "completed"
    },
    "tags": []
   },
   "outputs": [
    {
     "name": "stderr",
     "output_type": "stream",
     "text": [
      "Training [1/10] loss: 0.93570: 100%|██████████| 263/263 [01:01<00:00,  4.29it/s]\n",
      "Validation [1/10] accuracy: 85.88095: 100%|██████████| 66/66 [00:10<00:00,  6.41it/s]\n",
      "Training [2/10] loss: 0.39267: 100%|██████████| 263/263 [00:49<00:00,  5.28it/s]\n",
      "Validation [2/10] accuracy: 91.55952: 100%|██████████| 66/66 [00:10<00:00,  6.30it/s]\n",
      "Training [3/10] loss: 0.27500: 100%|██████████| 263/263 [00:49<00:00,  5.30it/s]\n",
      "Validation [3/10] accuracy: 93.35714: 100%|██████████| 66/66 [00:10<00:00,  6.29it/s]\n",
      "Training [4/10] loss: 0.21700: 100%|██████████| 263/263 [00:49<00:00,  5.27it/s]\n",
      "Validation [4/10] accuracy: 94.76190: 100%|██████████| 66/66 [00:09<00:00,  6.76it/s]\n",
      "Training [5/10] loss: 0.18512: 100%|██████████| 263/263 [00:50<00:00,  5.20it/s]\n",
      "Validation [5/10] accuracy: 95.64286: 100%|██████████| 66/66 [00:09<00:00,  6.75it/s]\n",
      "Training [6/10] loss: 0.16496: 100%|██████████| 263/263 [00:50<00:00,  5.24it/s]\n",
      "Validation [6/10] accuracy: 95.75000: 100%|██████████| 66/66 [00:09<00:00,  6.71it/s]\n",
      "Training [7/10] loss: 0.14951: 100%|██████████| 263/263 [00:49<00:00,  5.27it/s]\n",
      "Validation [7/10] accuracy: 96.34524: 100%|██████████| 66/66 [00:09<00:00,  6.66it/s]\n",
      "Training [8/10] loss: 0.13482: 100%|██████████| 263/263 [00:50<00:00,  5.23it/s]\n",
      "Validation [8/10] accuracy: 96.57143: 100%|██████████| 66/66 [00:09<00:00,  6.67it/s]\n",
      "Training [9/10] loss: 0.12202: 100%|██████████| 263/263 [00:50<00:00,  5.26it/s]\n",
      "Validation [9/10] accuracy: 96.33333: 100%|██████████| 66/66 [00:09<00:00,  6.93it/s]\n",
      "Training [10/10] loss: 0.11357: 100%|██████████| 263/263 [00:49<00:00,  5.27it/s]\n",
      "Validation [10/10] accuracy: 97.08333: 100%|██████████| 66/66 [00:10<00:00,  6.38it/s]\n"
     ]
    }
   ],
   "source": [
    "# Define the loss function and optimizer\n",
    "criterion = nn.CrossEntropyLoss()\n",
    "optimizer = torch.optim.AdamW(sim_model.parameters(), lr=0.0001)\n",
    "best_acc = 0.0\n",
    "epochs = 10\n",
    "\n",
    "loss_history = []\n",
    "accuracy_history = { \"train\": [], \"valid\": [] }\n",
    "\n",
    "OUTPUT_PATH = Path('/kaggle/working/weights')\n",
    "\n",
    "# Train the model\n",
    "for epoch in range(epochs):\n",
    "    sim_model.train()\n",
    "    total_loss = 0.0\n",
    "    correct = 0\n",
    "    total = 0\n",
    "    train_loss = []\n",
    "    \n",
    "    train_bar = tqdm(train_dataloader)\n",
    "    for images, labels in train_bar:\n",
    "        # train block\n",
    "        optimizer.zero_grad()\n",
    "        images = images.to(device)\n",
    "        images2 = data_transform(images)\n",
    "        images2 = images.to(device)\n",
    "        labels = labels.to(device)\n",
    "        logits = sim_model(images)\n",
    "        logits2 = sim_model(images2)\n",
    "        \n",
    "        loss1 = criterion(logits, labels)\n",
    "        loss2 = criterion(logits2, labels)\n",
    "        loss = (loss1 + loss2)/2\n",
    "        #loss += model.get_regularization(loss * 0.5, loss * 0.5)\n",
    "        loss.backward()\n",
    "        optimizer.step()\n",
    "                \n",
    "        # stat calculate block\n",
    "        total_loss += loss.item()\n",
    "        train_loss.append(loss.item())\n",
    "        train_bar.set_description(f\"Training [{epoch+1}/{epochs}] loss: {np.mean(train_loss):.5f}\")\n",
    "        \n",
    "        _, predicted = torch.max(logits.data, 1)\n",
    "        total += labels.size(0)\n",
    "        correct += (predicted == labels).sum().item()\n",
    "            \n",
    "        loss_history.append(total_loss / len(train_dataloader))\n",
    "        accuracy_history[\"train\"].append(correct / total)\n",
    "            \n",
    "    if valid_dataloader is not None:\n",
    "        \n",
    "        sim_model.eval()\n",
    "        correct = 0\n",
    "        total = 0\n",
    "\n",
    "        with torch.no_grad():\n",
    "            \n",
    "            valid_bar = tqdm(valid_dataloader)\n",
    "            \n",
    "            for images, labels in valid_bar:\n",
    "                images = images.to(device)\n",
    "                labels = labels.to(device)\n",
    "                outputs = sim_model(images)\n",
    "                _, predicted = torch.max(outputs.data, 1)\n",
    "                total += labels.size(0)\n",
    "                correct += (predicted == labels).sum().item()\n",
    "                valid_bar.set_description(f\"Validation [{epoch+1}/{epochs}] accuracy: {np.mean(correct/total)*100:.5f}\")\n",
    "            \n",
    "            acc = correct/total\n",
    "            if acc > best_acc:\n",
    "                file_path = OUTPUT_PATH / f\"bb_resnet18_{best_acc:.5f}.pth\"\n",
    "                if os.path.exists(file_path):\n",
    "                    # Remove the file\n",
    "                    os.remove(file_path)\n",
    "                \n",
    "                best_acc = max(acc, best_acc)\n",
    "                \n",
    "                if not OUTPUT_PATH.exists():\n",
    "                    OUTPUT_PATH.mkdir(parents=True, exist_ok=True)\n",
    "                model_path = OUTPUT_PATH / f\"bb_resnet18_{acc:.5f}.pth\"\n",
    "                torch.save(sim_model.state_dict(), model_path)\n",
    "\n",
    "        accuracy_history[\"valid\"].append(correct / total)\n"
   ]
  },
  {
   "cell_type": "markdown",
   "id": "c9690b00",
   "metadata": {
    "papermill": {
     "duration": 0.496655,
     "end_time": "2023-08-30T05:43:33.686356",
     "exception": false,
     "start_time": "2023-08-30T05:43:33.189701",
     "status": "completed"
    },
    "tags": []
   },
   "source": [
    "# *Plotting the figure of accuracy and losses*"
   ]
  },
  {
   "cell_type": "code",
   "execution_count": 18,
   "id": "29dffb3a",
   "metadata": {
    "execution": {
     "iopub.execute_input": "2023-08-30T05:43:34.767095Z",
     "iopub.status.busy": "2023-08-30T05:43:34.766627Z",
     "iopub.status.idle": "2023-08-30T05:43:35.352678Z",
     "shell.execute_reply": "2023-08-30T05:43:35.351736Z"
    },
    "papermill": {
     "duration": 1.150997,
     "end_time": "2023-08-30T05:43:35.355187",
     "exception": false,
     "start_time": "2023-08-30T05:43:34.204190",
     "status": "completed"
    },
    "tags": []
   },
   "outputs": [
    {
     "data": {
      "image/png": "[encoded data removed]",
      "text/plain": [
       "<Figure size 1200x600 with 2 Axes>"
      ]
     },
     "metadata": {},
     "output_type": "display_data"
    }
   ],
   "source": [
    "fig, axes = plt.subplots(1, 2, figsize=(12, 6))\n",
    "axes[0].plot(loss_history)\n",
    "axes[0].set_xlabel(\"Epoch\")\n",
    "axes[0].set_ylabel(\"Loss\")\n",
    "        \n",
    "axes[1].plot(accuracy_history[\"train\"], color=\"red\", label=\"Train\")\n",
    "axes[1].plot(accuracy_history[\"valid\"], color=\"green\", label=\"Valid\")\n",
    "axes[1].set_xlabel(\"Epoch\")\n",
    "axes[1].set_ylabel(\"Accuracy\")\n",
    "        \n",
    "plt.tight_layout()\n",
    "plt.show()"
   ]
  },
  {
   "cell_type": "code",
   "execution_count": 19,
   "id": "040bd61a",
   "metadata": {
    "execution": {
     "iopub.execute_input": "2023-08-30T05:43:36.352453Z",
     "iopub.status.busy": "2023-08-30T05:43:36.351395Z",
     "iopub.status.idle": "2023-08-30T05:43:36.403085Z",
     "shell.execute_reply": "2023-08-30T05:43:36.401963Z"
    },
    "papermill": {
     "duration": 0.554677,
     "end_time": "2023-08-30T05:43:36.405311",
     "exception": false,
     "start_time": "2023-08-30T05:43:35.850634",
     "status": "completed"
    },
    "tags": []
   },
   "outputs": [
    {
     "data": {
      "text/plain": [
       "DataParallel(\n",
       "  (module): SimpleClassifier(\n",
       "    (model): ResNet(\n",
       "      (conv1): Conv2d(1, 64, kernel_size=(7, 7), stride=(2, 2), padding=(3, 3), bias=False)\n",
       "      (bn1): BatchNorm2d(64, eps=1e-05, momentum=0.1, affine=True, track_running_stats=True)\n",
       "      (relu): ReLU(inplace=True)\n",
       "      (maxpool): MaxPool2d(kernel_size=3, stride=2, padding=1, dilation=1, ceil_mode=False)\n",
       "      (layer1): Sequential(\n",
       "        (0): BasicBlock(\n",
       "          (conv1): Conv2d(64, 64, kernel_size=(3, 3), stride=(1, 1), padding=(1, 1), bias=False)\n",
       "          (bn1): BatchNorm2d(64, eps=1e-05, momentum=0.1, affine=True, track_running_stats=True)\n",
       "          (relu): ReLU(inplace=True)\n",
       "          (conv2): Conv2d(64, 64, kernel_size=(3, 3), stride=(1, 1), padding=(1, 1), bias=False)\n",
       "          (bn2): BatchNorm2d(64, eps=1e-05, momentum=0.1, affine=True, track_running_stats=True)\n",
       "        )\n",
       "        (1): BasicBlock(\n",
       "          (conv1): Conv2d(64, 64, kernel_size=(3, 3), stride=(1, 1), padding=(1, 1), bias=False)\n",
       "          (bn1): BatchNorm2d(64, eps=1e-05, momentum=0.1, affine=True, track_running_stats=True)\n",
       "          (relu): ReLU(inplace=True)\n",
       "          (conv2): Conv2d(64, 64, kernel_size=(3, 3), stride=(1, 1), padding=(1, 1), bias=False)\n",
       "          (bn2): BatchNorm2d(64, eps=1e-05, momentum=0.1, affine=True, track_running_stats=True)\n",
       "        )\n",
       "      )\n",
       "      (layer2): Sequential(\n",
       "        (0): BasicBlock(\n",
       "          (conv1): Conv2d(64, 128, kernel_size=(3, 3), stride=(2, 2), padding=(1, 1), bias=False)\n",
       "          (bn1): BatchNorm2d(128, eps=1e-05, momentum=0.1, affine=True, track_running_stats=True)\n",
       "          (relu): ReLU(inplace=True)\n",
       "          (conv2): Conv2d(128, 128, kernel_size=(3, 3), stride=(1, 1), padding=(1, 1), bias=False)\n",
       "          (bn2): BatchNorm2d(128, eps=1e-05, momentum=0.1, affine=True, track_running_stats=True)\n",
       "          (downsample): Sequential(\n",
       "            (0): Conv2d(64, 128, kernel_size=(1, 1), stride=(2, 2), bias=False)\n",
       "            (1): BatchNorm2d(128, eps=1e-05, momentum=0.1, affine=True, track_running_stats=True)\n",
       "          )\n",
       "        )\n",
       "        (1): BasicBlock(\n",
       "          (conv1): Conv2d(128, 128, kernel_size=(3, 3), stride=(1, 1), padding=(1, 1), bias=False)\n",
       "          (bn1): BatchNorm2d(128, eps=1e-05, momentum=0.1, affine=True, track_running_stats=True)\n",
       "          (relu): ReLU(inplace=True)\n",
       "          (conv2): Conv2d(128, 128, kernel_size=(3, 3), stride=(1, 1), padding=(1, 1), bias=False)\n",
       "          (bn2): BatchNorm2d(128, eps=1e-05, momentum=0.1, affine=True, track_running_stats=True)\n",
       "        )\n",
       "      )\n",
       "      (layer3): Sequential(\n",
       "        (0): BasicBlock(\n",
       "          (conv1): Conv2d(128, 256, kernel_size=(3, 3), stride=(2, 2), padding=(1, 1), bias=False)\n",
       "          (bn1): BatchNorm2d(256, eps=1e-05, momentum=0.1, affine=True, track_running_stats=True)\n",
       "          (relu): ReLU(inplace=True)\n",
       "          (conv2): Conv2d(256, 256, kernel_size=(3, 3), stride=(1, 1), padding=(1, 1), bias=False)\n",
       "          (bn2): BatchNorm2d(256, eps=1e-05, momentum=0.1, affine=True, track_running_stats=True)\n",
       "          (downsample): Sequential(\n",
       "            (0): Conv2d(128, 256, kernel_size=(1, 1), stride=(2, 2), bias=False)\n",
       "            (1): BatchNorm2d(256, eps=1e-05, momentum=0.1, affine=True, track_running_stats=True)\n",
       "          )\n",
       "        )\n",
       "        (1): BasicBlock(\n",
       "          (conv1): Conv2d(256, 256, kernel_size=(3, 3), stride=(1, 1), padding=(1, 1), bias=False)\n",
       "          (bn1): BatchNorm2d(256, eps=1e-05, momentum=0.1, affine=True, track_running_stats=True)\n",
       "          (relu): ReLU(inplace=True)\n",
       "          (conv2): Conv2d(256, 256, kernel_size=(3, 3), stride=(1, 1), padding=(1, 1), bias=False)\n",
       "          (bn2): BatchNorm2d(256, eps=1e-05, momentum=0.1, affine=True, track_running_stats=True)\n",
       "        )\n",
       "      )\n",
       "      (layer4): Sequential(\n",
       "        (0): BasicBlock(\n",
       "          (conv1): Conv2d(256, 512, kernel_size=(3, 3), stride=(2, 2), padding=(1, 1), bias=False)\n",
       "          (bn1): BatchNorm2d(512, eps=1e-05, momentum=0.1, affine=True, track_running_stats=True)\n",
       "          (relu): ReLU(inplace=True)\n",
       "          (conv2): Conv2d(512, 512, kernel_size=(3, 3), stride=(1, 1), padding=(1, 1), bias=False)\n",
       "          (bn2): BatchNorm2d(512, eps=1e-05, momentum=0.1, affine=True, track_running_stats=True)\n",
       "          (downsample): Sequential(\n",
       "            (0): Conv2d(256, 512, kernel_size=(1, 1), stride=(2, 2), bias=False)\n",
       "            (1): BatchNorm2d(512, eps=1e-05, momentum=0.1, affine=True, track_running_stats=True)\n",
       "          )\n",
       "        )\n",
       "        (1): BasicBlock(\n",
       "          (conv1): Conv2d(512, 512, kernel_size=(3, 3), stride=(1, 1), padding=(1, 1), bias=False)\n",
       "          (bn1): BatchNorm2d(512, eps=1e-05, momentum=0.1, affine=True, track_running_stats=True)\n",
       "          (relu): ReLU(inplace=True)\n",
       "          (conv2): Conv2d(512, 512, kernel_size=(3, 3), stride=(1, 1), padding=(1, 1), bias=False)\n",
       "          (bn2): BatchNorm2d(512, eps=1e-05, momentum=0.1, affine=True, track_running_stats=True)\n",
       "        )\n",
       "      )\n",
       "      (avgpool): AdaptiveAvgPool2d(output_size=(1, 1))\n",
       "      (fc): Linear(in_features=512, out_features=10, bias=True)\n",
       "    )\n",
       "  )\n",
       ")"
      ]
     },
     "execution_count": 19,
     "metadata": {},
     "output_type": "execute_result"
    }
   ],
   "source": [
    "chk = OUTPUT_PATH / f\"bb_resnet18_{best_acc:.5f}.pth\" # Path to the weight file in pth format\n",
    "sim_model.load_state_dict(torch.load(chk), strict=False)\n",
    "sim_model.eval()"
   ]
  },
  {
   "cell_type": "code",
   "execution_count": 20,
   "id": "6bb64e5a",
   "metadata": {
    "execution": {
     "iopub.execute_input": "2023-08-30T05:43:37.442851Z",
     "iopub.status.busy": "2023-08-30T05:43:37.441820Z",
     "iopub.status.idle": "2023-08-30T05:43:37.476746Z",
     "shell.execute_reply": "2023-08-30T05:43:37.475836Z"
    },
    "papermill": {
     "duration": 0.534126,
     "end_time": "2023-08-30T05:43:37.478808",
     "exception": false,
     "start_time": "2023-08-30T05:43:36.944682",
     "status": "completed"
    },
    "tags": []
   },
   "outputs": [],
   "source": [
    "sample_submission = pd.read_csv(\"/kaggle/input/digit-recognizer/sample_submission.csv\")"
   ]
  },
  {
   "cell_type": "code",
   "execution_count": 21,
   "id": "e01bfbef",
   "metadata": {
    "execution": {
     "iopub.execute_input": "2023-08-30T05:43:38.476784Z",
     "iopub.status.busy": "2023-08-30T05:43:38.476424Z",
     "iopub.status.idle": "2023-08-30T05:43:38.489020Z",
     "shell.execute_reply": "2023-08-30T05:43:38.487968Z"
    },
    "papermill": {
     "duration": 0.51389,
     "end_time": "2023-08-30T05:43:38.491344",
     "exception": false,
     "start_time": "2023-08-30T05:43:37.977454",
     "status": "completed"
    },
    "tags": []
   },
   "outputs": [
    {
     "data": {
      "text/html": [
       "<div>\n",
       "<style scoped>\n",
       "    .dataframe tbody tr th:only-of-type {\n",
       "        vertical-align: middle;\n",
       "    }\n",
       "\n",
       "    .dataframe tbody tr th {\n",
       "        vertical-align: top;\n",
       "    }\n",
       "\n",
       "    .dataframe thead th {\n",
       "        text-align: right;\n",
       "    }\n",
       "</style>\n",
       "<table border=\"1\" class=\"dataframe\">\n",
       "  <thead>\n",
       "    <tr style=\"text-align: right;\">\n",
       "      <th></th>\n",
       "      <th>ImageId</th>\n",
       "      <th>Label</th>\n",
       "    </tr>\n",
       "  </thead>\n",
       "  <tbody>\n",
       "    <tr>\n",
       "      <th>0</th>\n",
       "      <td>1</td>\n",
       "      <td>0</td>\n",
       "    </tr>\n",
       "    <tr>\n",
       "      <th>1</th>\n",
       "      <td>2</td>\n",
       "      <td>0</td>\n",
       "    </tr>\n",
       "    <tr>\n",
       "      <th>2</th>\n",
       "      <td>3</td>\n",
       "      <td>0</td>\n",
       "    </tr>\n",
       "    <tr>\n",
       "      <th>3</th>\n",
       "      <td>4</td>\n",
       "      <td>0</td>\n",
       "    </tr>\n",
       "    <tr>\n",
       "      <th>4</th>\n",
       "      <td>5</td>\n",
       "      <td>0</td>\n",
       "    </tr>\n",
       "    <tr>\n",
       "      <th>...</th>\n",
       "      <td>...</td>\n",
       "      <td>...</td>\n",
       "    </tr>\n",
       "    <tr>\n",
       "      <th>27995</th>\n",
       "      <td>27996</td>\n",
       "      <td>0</td>\n",
       "    </tr>\n",
       "    <tr>\n",
       "      <th>27996</th>\n",
       "      <td>27997</td>\n",
       "      <td>0</td>\n",
       "    </tr>\n",
       "    <tr>\n",
       "      <th>27997</th>\n",
       "      <td>27998</td>\n",
       "      <td>0</td>\n",
       "    </tr>\n",
       "    <tr>\n",
       "      <th>27998</th>\n",
       "      <td>27999</td>\n",
       "      <td>0</td>\n",
       "    </tr>\n",
       "    <tr>\n",
       "      <th>27999</th>\n",
       "      <td>28000</td>\n",
       "      <td>0</td>\n",
       "    </tr>\n",
       "  </tbody>\n",
       "</table>\n",
       "<p>28000 rows × 2 columns</p>\n",
       "</div>"
      ],
      "text/plain": [
       "       ImageId  Label\n",
       "0            1      0\n",
       "1            2      0\n",
       "2            3      0\n",
       "3            4      0\n",
       "4            5      0\n",
       "...        ...    ...\n",
       "27995    27996      0\n",
       "27996    27997      0\n",
       "27997    27998      0\n",
       "27998    27999      0\n",
       "27999    28000      0\n",
       "\n",
       "[28000 rows x 2 columns]"
      ]
     },
     "execution_count": 21,
     "metadata": {},
     "output_type": "execute_result"
    }
   ],
   "source": [
    "sample_submission"
   ]
  },
  {
   "cell_type": "code",
   "execution_count": 22,
   "id": "0a38c49f",
   "metadata": {
    "execution": {
     "iopub.execute_input": "2023-08-30T05:43:39.509682Z",
     "iopub.status.busy": "2023-08-30T05:43:39.509302Z",
     "iopub.status.idle": "2023-08-30T05:43:39.515440Z",
     "shell.execute_reply": "2023-08-30T05:43:39.514538Z"
    },
    "papermill": {
     "duration": 0.493646,
     "end_time": "2023-08-30T05:43:39.517520",
     "exception": false,
     "start_time": "2023-08-30T05:43:39.023874",
     "status": "completed"
    },
    "tags": []
   },
   "outputs": [
    {
     "data": {
      "text/plain": [
       "(28000, 784)"
      ]
     },
     "execution_count": 22,
     "metadata": {},
     "output_type": "execute_result"
    }
   ],
   "source": [
    "test_data.shape"
   ]
  },
  {
   "cell_type": "code",
   "execution_count": 23,
   "id": "ba2b9ae6",
   "metadata": {
    "execution": {
     "iopub.execute_input": "2023-08-30T05:43:40.579580Z",
     "iopub.status.busy": "2023-08-30T05:43:40.579216Z",
     "iopub.status.idle": "2023-08-30T05:43:40.584317Z",
     "shell.execute_reply": "2023-08-30T05:43:40.583236Z"
    },
    "papermill": {
     "duration": 0.511155,
     "end_time": "2023-08-30T05:43:40.586667",
     "exception": false,
     "start_time": "2023-08-30T05:43:40.075512",
     "status": "completed"
    },
    "tags": []
   },
   "outputs": [],
   "source": [
    "trans = transforms.Compose([\n",
    "    transforms.ToTensor(),\n",
    "    transforms.Normalize((0.5,), (0.5,))\n",
    "])"
   ]
  },
  {
   "cell_type": "code",
   "execution_count": 24,
   "id": "aede6d6f",
   "metadata": {
    "execution": {
     "iopub.execute_input": "2023-08-30T05:43:41.615468Z",
     "iopub.status.busy": "2023-08-30T05:43:41.615102Z",
     "iopub.status.idle": "2023-08-30T05:43:41.620709Z",
     "shell.execute_reply": "2023-08-30T05:43:41.619717Z"
    },
    "papermill": {
     "duration": 0.548422,
     "end_time": "2023-08-30T05:43:41.622770",
     "exception": false,
     "start_time": "2023-08-30T05:43:41.074348",
     "status": "completed"
    },
    "tags": []
   },
   "outputs": [],
   "source": [
    "def preprocess(image, transform):\n",
    "    image = image.reshape(28, 28) / 255.0\n",
    "    image = trans(image)\n",
    "    image = image.to(torch.float32)\n",
    "    \n",
    "    return image"
   ]
  },
  {
   "cell_type": "code",
   "execution_count": 25,
   "id": "12cca6e7",
   "metadata": {
    "execution": {
     "iopub.execute_input": "2023-08-30T05:43:42.601904Z",
     "iopub.status.busy": "2023-08-30T05:43:42.601552Z",
     "iopub.status.idle": "2023-08-30T05:48:24.639941Z",
     "shell.execute_reply": "2023-08-30T05:48:24.638739Z"
    },
    "papermill": {
     "duration": 282.53367,
     "end_time": "2023-08-30T05:48:24.644894",
     "exception": false,
     "start_time": "2023-08-30T05:43:42.111224",
     "status": "completed"
    },
    "tags": []
   },
   "outputs": [
    {
     "name": "stderr",
     "output_type": "stream",
     "text": [
      "Submitting..: 100%|\u001b[34m██████████\u001b[0m| 28000/28000 [04:42<00:00, 99.28it/s] \n"
     ]
    }
   ],
   "source": [
    "sim_model.to(device)\n",
    "\n",
    "with torch.no_grad():\n",
    "    for idx, image in tqdm(test_data.iterrows(), total=len(test_data), desc=\"Submitting..\", colour=\"blue\"):\n",
    "        image = preprocess(image.values, data_transform)\n",
    "        output = sim_model(image.unsqueeze(0))\n",
    "        pred = torch.argmax(output).item()\n",
    "        \n",
    "        sample_submission[\"Label\"][idx] = pred"
   ]
  },
  {
   "cell_type": "code",
   "execution_count": 26,
   "id": "1276613d",
   "metadata": {
    "execution": {
     "iopub.execute_input": "2023-08-30T05:48:26.094027Z",
     "iopub.status.busy": "2023-08-30T05:48:26.093584Z",
     "iopub.status.idle": "2023-08-30T05:48:26.162937Z",
     "shell.execute_reply": "2023-08-30T05:48:26.161974Z"
    },
    "papermill": {
     "duration": 0.772941,
     "end_time": "2023-08-30T05:48:26.165366",
     "exception": false,
     "start_time": "2023-08-30T05:48:25.392425",
     "status": "completed"
    },
    "tags": []
   },
   "outputs": [],
   "source": [
    "sample_submission.to_csv(\"/kaggle/working/submission_128_10.csv\", index=False)"
   ]
  },
  {
   "cell_type": "markdown",
   "id": "78a9fcca",
   "metadata": {
    "papermill": {
     "duration": 0.693887,
     "end_time": "2023-08-30T05:48:27.607139",
     "exception": false,
     "start_time": "2023-08-30T05:48:26.913252",
     "status": "completed"
    },
    "tags": []
   },
   "source": [
    "#### Removing images or files"
   ]
  },
  {
   "cell_type": "code",
   "execution_count": 27,
   "id": "f5ba4bab",
   "metadata": {
    "execution": {
     "iopub.execute_input": "2023-08-30T05:48:29.072912Z",
     "iopub.status.busy": "2023-08-30T05:48:29.071742Z",
     "iopub.status.idle": "2023-08-30T05:48:29.084406Z",
     "shell.execute_reply": "2023-08-30T05:48:29.083062Z"
    },
    "papermill": {
     "duration": 0.77289,
     "end_time": "2023-08-30T05:48:29.086586",
     "exception": false,
     "start_time": "2023-08-30T05:48:28.313696",
     "status": "completed"
    },
    "tags": []
   },
   "outputs": [],
   "source": [
    "# import shutil\n",
    "# import os\n",
    "\n",
    "# def remove_folder(path):\n",
    "#     # Check if the folder exists\n",
    "#     if os.path.exists(path):\n",
    "#         # Remove the folder\n",
    "#         shutil.rmtree(path)\n",
    "#     else:\n",
    "#         print(f\"The folder {path} does not exist\")\n",
    "\n",
    "# # Example usage\n",
    "# remove_folder('/kaggle/working/weights')\n",
    "\n",
    "\n",
    "# # Define the path to the file you want to delete\n",
    "# file_path = '/kaggle/working/submission.csv'\n",
    "\n",
    "# # Check if the file exists\n",
    "# if os.path.exists(file_path):\n",
    "#     # Remove the file\n",
    "#     os.remove(file_path)\n",
    "# else:\n",
    "#     print(f\"The file {file_path} does not exist\")"
   ]
  },
  {
   "cell_type": "code",
   "execution_count": null,
   "id": "5f3df011",
   "metadata": {
    "papermill": {
     "duration": 0.700877,
     "end_time": "2023-08-30T05:48:30.479908",
     "exception": false,
     "start_time": "2023-08-30T05:48:29.779031",
     "status": "completed"
    },
    "tags": []
   },
   "outputs": [],
   "source": []
  }
 ],
 "kernelspec": {
  "display_name": "Python 3",
  "language": "python",
  "name": "python3"
 },
 "language_info": {
  "codemirror_mode": {
   "name": "ipython",
   "version": 3
  },
  "file_extension": ".py",
  "mimetype": "text/x-python",
  "name": "python",
  "nbconvert_exporter": "python",
  "pygments_lexer": "ipython3",
  "version": "3.6.4"
 },
 "metadata": {
  "kernelspec": {
   "display_name": "Python 3",
   "language": "python",
   "name": "python3"
  },
  "language_info": {
   "codemirror_mode": {
    "name": "ipython",
    "version": 3
   },
   "file_extension": ".py",
   "mimetype": "text/x-python",
   "name": "python",
   "nbconvert_exporter": "python",
   "pygments_lexer": "ipython3",
   "version": "3.10.12"
  },
  "papermill": {
   "default_parameters": {},
   "duration": 953.449821,
   "end_time": "2023-08-30T05:48:34.842879",
   "environment_variables": {},
   "exception": null,
   "input_path": "__notebook__.ipynb",
   "output_path": "__notebook__.ipynb",
   "parameters": {},
   "start_time": "2023-08-30T05:32:41.393058",
   "version": "2.4.0"
  }
 },
 "nbformat": 4,
 "nbformat_minor": 5
}
